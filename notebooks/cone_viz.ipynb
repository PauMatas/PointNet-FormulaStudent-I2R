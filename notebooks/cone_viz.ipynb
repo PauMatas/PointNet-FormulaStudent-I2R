{
 "cells": [
  {
   "cell_type": "code",
   "execution_count": null,
   "metadata": {},
   "outputs": [],
   "source": [
    "import os\n",
    "import sys\n",
    "module_path = os.path.abspath(os.path.join('../'))\n",
    "DB_PATH = os.path.abspath(os.path.join('../data/database.sqlite3'))\n",
    "if module_path not in sys.path:\n",
    "    sys.path.append(module_path)\n",
    "\n",
    "import altair as alt\n",
    "from matplotlib import pyplot as plt\n",
    "import pandas as pd\n",
    "from datetime import datetime\n",
    "import numpy as np\n",
    "import json\n",
    "from typing import List\n",
    "from src.interfaces.database import SQLiteProxy\n"
   ]
  },
  {
   "cell_type": "code",
   "execution_count": null,
   "metadata": {},
   "outputs": [],
   "source": [
    "db = SQLiteProxy(DB_PATH)\n",
    "db.get_no_cones().clean()"
   ]
  },
  {
   "cell_type": "code",
   "execution_count": null,
   "metadata": {},
   "outputs": [],
   "source": [
    "bounding_boxes = db.get_point_clouds().extract_bounding_boxes('montmelo', no_cones=False, centered=True, sample_size=None)"
   ]
  },
  {
   "cell_type": "code",
   "execution_count": null,
   "metadata": {},
   "outputs": [],
   "source": [
    "for i, bb in enumerate(bounding_boxes[::10]):\n",
    "    pc = np.array(bb.points)\n",
    "    fig = plt.figure(figsize=[7,7])\n",
    "    ax = plt.axes(projection='3d')\n",
    "    sc = ax.scatter(-pc[:,0], pc[:,1], -pc[:,2], c=pc[:,0] ,s=5, marker='o', cmap=\"Greens\", alpha=1)\n",
    "    ax.set_zlim3d(-1, 1)\n",
    "    plt.title(f'Label: cone {i*10}')\n",
    "    plt.show()"
   ]
  },
  {
   "cell_type": "code",
   "execution_count": null,
   "metadata": {},
   "outputs": [],
   "source": []
  }
 ],
 "metadata": {
  "kernelspec": {
   "display_name": "Python 3",
   "language": "python",
   "name": "python3"
  },
  "language_info": {
   "codemirror_mode": {
    "name": "ipython",
    "version": 3
   },
   "file_extension": ".py",
   "mimetype": "text/x-python",
   "name": "python",
   "nbconvert_exporter": "python",
   "pygments_lexer": "ipython3",
   "version": "3.10.8"
  },
  "orig_nbformat": 4,
  "vscode": {
   "interpreter": {
    "hash": "aee8b7b246df8f9039afb4144a1f6fd8d2ca17a180786b69acc140d282b71a49"
   }
  }
 },
 "nbformat": 4,
 "nbformat_minor": 2
}
