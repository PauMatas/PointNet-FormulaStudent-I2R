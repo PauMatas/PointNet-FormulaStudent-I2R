{
 "cells": [
  {
   "cell_type": "code",
   "execution_count": null,
   "id": "eb80d717",
   "metadata": {},
   "outputs": [],
   "source": [
    "import os\n",
    "import sys\n",
    "module_path = os.path.abspath(os.path.join('..', 'scripts'))\n",
    "if module_path not in sys.path:\n",
    "    sys.path.append(module_path)\n",
    "    \n",
    "%matplotlib notebook\n",
    "import matplotlib.pyplot as plt\n",
    "from mpl_toolkits.mplot3d import Axes3D\n",
    "import ipywidgets as widgets\n",
    "\n",
    "import altair as alt\n",
    "import pandas as pd\n",
    "from datetime import datetime"
   ]
  },
  {
   "cell_type": "code",
   "execution_count": null,
   "id": "2bd840ca",
   "metadata": {},
   "outputs": [],
   "source": [
    "from pointcloud_db import ConePositionTable, PointCloudTable, get_run_progressive_bounding_boxes"
   ]
  },
  {
   "cell_type": "code",
   "execution_count": null,
   "id": "de0ac6ca",
   "metadata": {},
   "outputs": [],
   "source": [
    "hist = get_run_progressive_bounding_boxes(position_step=10, delta=20)"
   ]
  },
  {
   "cell_type": "code",
   "execution_count": null,
   "id": "6914621a",
   "metadata": {},
   "outputs": [],
   "source": [
    "time_zero = datetime.strptime(hist[0][2], '%Y-%m-%d %H:%M:%S.%f')\n",
    "for i in range(len(hist)):\n",
    "    hist[i] += (datetime.strptime(hist[i][2], '%Y-%m-%d %H:%M:%S.%f'), )"
   ]
  },
  {
   "cell_type": "code",
   "execution_count": null,
   "id": "940159b8",
   "metadata": {},
   "outputs": [],
   "source": [
    "df = pd.DataFrame(hist, columns=['size', 'dist', 'time_str', 'time'])\n",
    "\n",
    "bars = alt.Chart(df).mark_bar().encode(\n",
    "    x=alt.X(\"dist:Q\", bin=True),\n",
    "    y='mean(size):Q',\n",
    ").properties(\n",
    "    height=200,\n",
    "    width=800,\n",
    ")\n",
    "\n",
    "heatmap = alt.Chart(df).mark_rect().encode(\n",
    "    alt.X('dist:Q', bin=alt.Bin(maxbins=8)),\n",
    "    alt.Color('count():Q', scale=alt.Scale(scheme='greenblue'))\n",
    ").properties(\n",
    "    width=800,\n",
    ")\n",
    "\n",
    "bubble = alt.Chart(df).mark_circle().encode(\n",
    "    x='dist:Q',\n",
    "    y='time:T',\n",
    "    size='size:Q'\n",
    ").properties(\n",
    "    width=800,\n",
    ")\n",
    "\n",
    "hist_plot = alt.vconcat(bars, heatmap, bubble)"
   ]
  },
  {
   "cell_type": "code",
   "execution_count": null,
   "id": "3fd25ae6",
   "metadata": {},
   "outputs": [],
   "source": [
    "hist_plot"
   ]
  },
  {
   "cell_type": "code",
   "execution_count": null,
   "id": "714a4244",
   "metadata": {},
   "outputs": [],
   "source": []
  }
 ],
 "metadata": {
  "kernelspec": {
   "display_name": "Python 3.10.6 64-bit",
   "language": "python",
   "name": "python3"
  },
  "language_info": {
   "codemirror_mode": {
    "name": "ipython",
    "version": 3
   },
   "file_extension": ".py",
   "mimetype": "text/x-python",
   "name": "python",
   "nbconvert_exporter": "python",
   "pygments_lexer": "ipython3",
   "version": "3.10.6"
  },
  "vscode": {
   "interpreter": {
    "hash": "7e1998ff7f8aa20ada591c520b972326324e5ea05489af9e422744c7c09f6dad"
   }
  }
 },
 "nbformat": 4,
 "nbformat_minor": 5
}
