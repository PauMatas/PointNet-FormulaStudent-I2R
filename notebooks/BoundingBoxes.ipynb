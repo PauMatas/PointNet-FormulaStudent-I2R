{
 "cells": [
  {
   "cell_type": "code",
   "execution_count": null,
   "id": "4fbb25c2",
   "metadata": {},
   "outputs": [],
   "source": [
    "!jupyter nbextension enable --py widgetsnbextension"
   ]
  },
  {
   "cell_type": "code",
   "execution_count": null,
   "id": "eb80d717",
   "metadata": {},
   "outputs": [],
   "source": [
    "import os\n",
    "import sys\n",
    "module_path = os.path.abspath(os.path.join('..', 'scripts'))\n",
    "if module_path not in sys.path:\n",
    "    sys.path.append(module_path)\n",
    "    \n",
    "%matplotlib notebook\n",
    "import matplotlib.pyplot as plt\n",
    "from mpl_toolkits.mplot3d import Axes3D\n",
    "import ipywidgets as widgets"
   ]
  },
  {
   "cell_type": "code",
   "execution_count": null,
   "id": "2bd840ca",
   "metadata": {},
   "outputs": [],
   "source": [
    "from pointcloud_db import ConePositionTable, PointCloudTable"
   ]
  },
  {
   "cell_type": "code",
   "execution_count": null,
   "id": "8ee9ba90",
   "metadata": {},
   "outputs": [],
   "source": [
    "pos_table = ConePositionTable()\n",
    "pc_table = PointCloudTable()\n",
    "\n",
    "cone_positions = pos_table.read_rows()\n",
    "\n",
    "bbxs = [pc_table.bounding_box(cone_position, .5) for cone_position in cone_positions]"
   ]
  },
  {
   "cell_type": "code",
   "execution_count": null,
   "id": "5fefccd5",
   "metadata": {},
   "outputs": [],
   "source": [
    "bb_selection = widgets.BoundedIntText(\n",
    "    value=None,\n",
    "    min=0,\n",
    "    max=len(bbxs)-1,\n",
    "    step=1,\n",
    "    description='Bounding Box:',\n",
    "    disabled=False\n",
    ")\n",
    "display(bb_selection)"
   ]
  },
  {
   "cell_type": "code",
   "execution_count": null,
   "id": "c782270b",
   "metadata": {},
   "outputs": [],
   "source": [
    "BB = 15"
   ]
  },
  {
   "cell_type": "code",
   "execution_count": null,
   "id": "0b1e9c9a",
   "metadata": {},
   "outputs": [],
   "source": [
    "points = bbxs[BB]\n",
    "\n",
    "fig = plt.figure()\n",
    "ax = fig.add_subplot(111)\n",
    "ax.scatter([p[0] for p in points], [p[1] for p in points], [p[2] for p in points])\n",
    "ax.set_axis_off()\n",
    "plt.show()"
   ]
  },
  {
   "cell_type": "code",
   "execution_count": null,
   "id": "de0ac6ca",
   "metadata": {},
   "outputs": [],
   "source": []
  }
 ],
 "metadata": {
  "kernelspec": {
   "display_name": "Python 3 (ipykernel)",
   "language": "python",
   "name": "python3"
  },
  "language_info": {
   "codemirror_mode": {
    "name": "ipython",
    "version": 3
   },
   "file_extension": ".py",
   "mimetype": "text/x-python",
   "name": "python",
   "nbconvert_exporter": "python",
   "pygments_lexer": "ipython3",
   "version": "3.8.10"
  }
 },
 "nbformat": 4,
 "nbformat_minor": 5
}
