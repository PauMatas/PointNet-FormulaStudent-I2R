{
 "cells": [
  {
   "cell_type": "code",
   "execution_count": 7,
   "id": "eb80d717",
   "metadata": {},
   "outputs": [],
   "source": [
    "import os\n",
    "import sys\n",
    "module_path = os.path.abspath(os.path.join('../'))\n",
    "DB_PATH = os.path.abspath(os.path.join('../data/validation_database.sqlite3'))\n",
    "if module_path not in sys.path:\n",
    "    sys.path.append(module_path)\n",
    "    \n",
    "import matplotlib.pyplot as plt\n",
    "import numpy as np\n",
    "import pickle as pkl\n",
    "from PIL import Image\n",
    "import altair as alt\n",
    "import pandas as pd\n",
    "from datetime import datetime"
   ]
  },
  {
   "cell_type": "code",
   "execution_count": 8,
   "id": "2bd840ca",
   "metadata": {},
   "outputs": [],
   "source": [
    "from src.interfaces.database import SQLiteProxy"
   ]
  },
  {
   "cell_type": "code",
   "execution_count": 9,
   "id": "714a4244",
   "metadata": {},
   "outputs": [
    {
     "name": "stderr",
     "output_type": "stream",
     "text": [
      "/home/usuaris/imatge/pau.matas/.conda/envs/.env/lib/python3.10/site-packages/altair/utils/core.py:283: FutureWarning: iteritems is deprecated and will be removed in a future version. Use .items instead.\n",
      "  for col_name, dtype in df.dtypes.iteritems():\n"
     ]
    },
    {
     "data": {
      "text/html": [
       "\n",
       "<div id=\"altair-viz-8de9969aac5246cda61defbea6b42448\"></div>\n",
       "<script type=\"text/javascript\">\n",
       "  (function(spec, embedOpt){\n",
       "    let outputDiv = document.currentScript.previousElementSibling;\n",
       "    if (outputDiv.id !== \"altair-viz-8de9969aac5246cda61defbea6b42448\") {\n",
       "      outputDiv = document.getElementById(\"altair-viz-8de9969aac5246cda61defbea6b42448\");\n",
       "    }\n",
       "    const paths = {\n",
       "      \"vega\": \"https://cdn.jsdelivr.net/npm//vega@5?noext\",\n",
       "      \"vega-lib\": \"https://cdn.jsdelivr.net/npm//vega-lib?noext\",\n",
       "      \"vega-lite\": \"https://cdn.jsdelivr.net/npm//vega-lite@4.8.1?noext\",\n",
       "      \"vega-embed\": \"https://cdn.jsdelivr.net/npm//vega-embed@6?noext\",\n",
       "    };\n",
       "\n",
       "    function loadScript(lib) {\n",
       "      return new Promise(function(resolve, reject) {\n",
       "        var s = document.createElement('script');\n",
       "        s.src = paths[lib];\n",
       "        s.async = true;\n",
       "        s.onload = () => resolve(paths[lib]);\n",
       "        s.onerror = () => reject(`Error loading script: ${paths[lib]}`);\n",
       "        document.getElementsByTagName(\"head\")[0].appendChild(s);\n",
       "      });\n",
       "    }\n",
       "\n",
       "    function showError(err) {\n",
       "      outputDiv.innerHTML = `<div class=\"error\" style=\"color:red;\">${err}</div>`;\n",
       "      throw err;\n",
       "    }\n",
       "\n",
       "    function displayChart(vegaEmbed) {\n",
       "      vegaEmbed(outputDiv, spec, embedOpt)\n",
       "        .catch(err => showError(`Javascript Error: ${err.message}<br>This usually means there's a typo in your chart specification. See the javascript console for the full traceback.`));\n",
       "    }\n",
       "\n",
       "    if(typeof define === \"function\" && define.amd) {\n",
       "      requirejs.config({paths});\n",
       "      require([\"vega-embed\"], displayChart, err => showError(`Error loading script: ${err.message}`));\n",
       "    } else if (typeof vegaEmbed === \"function\") {\n",
       "      displayChart(vegaEmbed);\n",
       "    } else {\n",
       "      loadScript(\"vega\")\n",
       "        .then(() => loadScript(\"vega-lite\"))\n",
       "        .then(() => loadScript(\"vega-embed\"))\n",
       "        .catch(showError)\n",
       "        .then(() => displayChart(vegaEmbed));\n",
       "    }\n",
       "  })({\"config\": {\"view\": {\"continuousWidth\": 400, \"continuousHeight\": 300}}, \"layer\": [{\"data\": {\"name\": \"data-4dec65ce9c9979d1ca6c8250cd50adec\"}, \"mark\": {\"type\": \"circle\", \"color\": \"blue\"}, \"encoding\": {\"x\": {\"type\": \"quantitative\", \"field\": \"x\"}, \"y\": {\"type\": \"quantitative\", \"field\": \"y\"}}}, {\"data\": {\"name\": \"data-8736372bc331e72a3a7bd6fa34efe4a3\"}, \"mark\": {\"type\": \"circle\", \"color\": \"red\"}, \"encoding\": {\"x\": {\"type\": \"quantitative\", \"field\": \"x\"}, \"y\": {\"type\": \"quantitative\", \"field\": \"y\"}}}], \"title\": [\"wet_forum\"], \"$schema\": \"https://vega.github.io/schema/vega-lite/v4.8.1.json\", \"datasets\": {\"data-4dec65ce9c9979d1ca6c8250cd50adec\": [{\"x\": 14.819380760192871, \"y\": 3.649905204772949}, {\"x\": 14.876302719116211, \"y\": 0.1727139949798584}, {\"x\": 18.28277587890625, \"y\": 4.141448974609375}, {\"x\": 18.758750915527344, \"y\": 0.572584867477417}, {\"x\": 21.340255737304688, \"y\": 4.3944220542907715}, {\"x\": 22.054773330688477, \"y\": 1.1731083393096924}, {\"x\": 25.311565399169922, \"y\": 1.7945277690887451}, {\"x\": 25.13559913635254, \"y\": 5.880414962768555}, {\"x\": 28.0982666015625, \"y\": 3.7063145637512207}, {\"x\": 29.751304626464844, \"y\": 6.157443046569824}, {\"x\": 29.994342803955078, \"y\": 9.220914840698242}, {\"x\": 25.030410766601562, \"y\": 11.441415786743164}, {\"x\": 26.06953239440918, \"y\": 15.678336143493652}, {\"x\": 22.397628784179688, \"y\": 13.92198371887207}, {\"x\": 23.291837692260742, \"y\": 17.716693878173828}, {\"x\": 20.17591094970703, \"y\": 15.711195945739746}, {\"x\": 21.722454071044922, \"y\": 19.364990234375}, {\"x\": 18.262439727783203, \"y\": 17.883346557617188}, {\"x\": 20.185882568359375, \"y\": 20.509456634521484}, {\"x\": 16.85507583618164, \"y\": 20.081504821777344}, {\"x\": 19.908573150634766, \"y\": 22.5462646484375}, {\"x\": 16.12704849243164, \"y\": 23.02010154724121}, {\"x\": 15.923027992248535, \"y\": 30.257614135742188}, {\"x\": 12.27108097076416, \"y\": 27.058446884155273}, {\"x\": 12.928018569946289, \"y\": 31.310272216796875}, {\"x\": 10.072735786437988, \"y\": 31.510896682739258}, {\"x\": 8.918068885803223, \"y\": 26.748950958251953}, {\"x\": 7.83718204498291, \"y\": 30.062353134155273}, {\"x\": 6.007501602172852, \"y\": 28.801162719726562}, {\"x\": 6.478573799133301, \"y\": 25.16197395324707}, {\"x\": 3.630162000656128, \"y\": 27.07328987121582}, {\"x\": 4.532391548156738, \"y\": 22.952537536621094}, {\"x\": 1.976696491241455, \"y\": 25.17502784729004}, {\"x\": 0.8367838859558105, \"y\": 23.068782806396484}, {\"x\": 2.9380931854248047, \"y\": 20.418354034423828}, {\"x\": 2.3376779556274414, \"y\": 18.180511474609375}, {\"x\": -1.26381254196167, \"y\": 20.316001892089844}, {\"x\": 1.428335189819336, \"y\": 16.550275802612305}, {\"x\": -1.3353533744812012, \"y\": 20.20741844177246}, {\"x\": -0.12601757049560547, \"y\": 15.06486701965332}, {\"x\": -2.9062929153442383, \"y\": 18.572385787963867}, {\"x\": -2.471998691558838, \"y\": 13.869991302490234}, {\"x\": -5.401195526123047, \"y\": 18.476171493530273}, {\"x\": -5.103144645690918, \"y\": 13.082542419433594}, {\"x\": -8.543713569641113, \"y\": 19.333858489990234}, {\"x\": -8.087474822998047, \"y\": 13.421661376953125}, {\"x\": -11.39659309387207, \"y\": 19.639616012573242}, {\"x\": -10.430416107177734, \"y\": 14.24029541015625}, {\"x\": -13.822736740112305, \"y\": 18.659543991088867}, {\"x\": -12.221658706665039, \"y\": 13.091909408569336}, {\"x\": -16.326047897338867, \"y\": 16.04041290283203}, {\"x\": -16.576416015625, \"y\": 11.286378860473633}, {\"x\": -12.429886817932129, \"y\": 10.40850830078125}, {\"x\": -16.307613372802734, \"y\": 7.5069475173950195}, {\"x\": -11.32571792602539, \"y\": 6.937246322631836}, {\"x\": -14.056535720825195, \"y\": 4.2183380126953125}, {\"x\": -8.908726692199707, \"y\": 4.437916278839111}, {\"x\": -11.104610443115234, \"y\": 1.166245460510254}, {\"x\": -6.055947303771973, \"y\": 2.7668886184692383}, {\"x\": -8.134262084960938, \"y\": -0.6957662105560303}, {\"x\": -4.084009170532227, \"y\": -1.7478737831115723}, {\"x\": -2.2293272018432617, \"y\": 1.4519466161727905}, {\"x\": -0.8841938972473145, \"y\": -1.944493293762207}, {\"x\": 1.8994193077087402, \"y\": 1.7580485343933105}, {\"x\": 2.5926475524902344, \"y\": -1.5792551040649414}, {\"x\": 5.222686290740967, \"y\": 2.287559986114502}, {\"x\": 5.58795166015625, \"y\": -1.0458674430847168}, {\"x\": 8.89678955078125, \"y\": 2.8822829723358154}, {\"x\": 8.738658905029297, \"y\": -0.6703643798828125}, {\"x\": 11.823151588439941, \"y\": -0.199615478515625}, {\"x\": 11.929910659790039, \"y\": 3.552821159362793}, {\"x\": 14.776829719543457, \"y\": 3.5728421211242676}, {\"x\": 14.902083396911621, \"y\": 0.19045591354370117}, {\"x\": 18.21980094909668, \"y\": 27.080183029174805}, {\"x\": 15.997719764709473, \"y\": 30.20689582824707}, {\"x\": 19.486722946166992, \"y\": 24.12763023376465}, {\"x\": 28.566925048828125, \"y\": 12.563576698303223}, {\"x\": 26.121551513671875, \"y\": 15.574417114257812}, {\"x\": 29.72197151184082, \"y\": 6.150671005249023}, {\"x\": 30.004898071289062, \"y\": 9.270974159240723}], \"data-8736372bc331e72a3a7bd6fa34efe4a3\": [{\"x\": 10.824318259954453, \"y\": -15.11501482129097}, {\"x\": 13.30024304986, \"y\": -12.160812020301819}, {\"x\": 36.100635170936584, \"y\": -27.871300280094147}, {\"x\": 4.030586592853069, \"y\": -33.660373866558075}, {\"x\": 14.402338698506355, \"y\": -11.042940765619278}, {\"x\": 7.24139791727066, \"y\": -29.794143557548523}, {\"x\": 41.86133646965027, \"y\": 80.52311420440674}, {\"x\": 66.30577325820923, \"y\": -13.949581265449524}, {\"x\": 28.963703274726868, \"y\": -29.1068434715271}, {\"x\": 26.87596106529236, \"y\": 78.74461007118225}, {\"x\": 36.42647194862366, \"y\": -20.442045032978058}, {\"x\": 51.59782099723816, \"y\": 83.53957259654999}, {\"x\": 10.496567070484161, \"y\": -16.304807171225548}, {\"x\": 73.35195326805115, \"y\": 59.27539396286011}, {\"x\": 38.85633450746536, \"y\": -17.09366273880005}]}}, {\"mode\": \"vega-lite\"});\n",
       "</script>"
      ],
      "text/plain": [
       "alt.LayerChart(...)"
      ]
     },
     "metadata": {},
     "output_type": "display_data"
    }
   ],
   "source": [
    "db = SQLiteProxy(DB_PATH)\n",
    "db.get_no_cones().clean()\n",
    "\n",
    "for run_name in db.get_runs().read(projection=['name']):\n",
    "    cones = db.get_cones().read(run_name=run_name[0], projection=['x', 'y'])\n",
    "    no_cones = db.get_no_cones().read(run_name=run_name[0], projection=['x', 'y'])\n",
    "\n",
    "    cones_df = pd.DataFrame(cones, columns=['x', 'y'])\n",
    "    no_cones_df = pd.DataFrame(no_cones, columns=['x', 'y'])\n",
    "\n",
    "    map_plot = (\n",
    "        alt.Chart(cones_df).mark_circle(color='blue').encode(x='x', y='y') +\n",
    "        alt.Chart(no_cones_df).mark_circle(color='red').encode(x='x', y='y')\n",
    "    ).properties(\n",
    "        title=run_name\n",
    "    )\n",
    "\n",
    "    display(map_plot)\n",
    "    "
   ]
  },
  {
   "cell_type": "code",
   "execution_count": 10,
   "id": "a5677578",
   "metadata": {},
   "outputs": [
    {
     "name": "stderr",
     "output_type": "stream",
     "text": [
      "/tmp/ipykernel_26767/727693305.py:10: DeprecationWarning: The binary mode of fromstring is deprecated, as it behaves surprisingly on unicode inputs. Use frombuffer instead\n",
      "  buf = np.fromstring(fig.canvas.tostring_argb(), dtype=np.uint8)\n",
      "/tmp/ipykernel_26767/727693305.py:14: DeprecationWarning: tostring() is deprecated. Use tobytes() instead.\n",
      "  image = Image.frombytes(\"RGBA\", (w, h), buf.tostring())\n"
     ]
    },
    {
     "data": {
      "image/png": "[encoded data removed]",
      "text/plain": [
       "<Figure size 640x480 with 1 Axes>"
      ]
     },
     "metadata": {},
     "output_type": "display_data"
    }
   ],
   "source": [
    "def list_to_input(detected_cones: list, circuit_id: str = \"0\"):\n",
    "    fig, ax = plt.subplots()\n",
    "    hc = np.array(detected_cones)\n",
    "    ax.scatter(hc[:,0], hc[:,1], color=(0,0,0,1), s=1)\n",
    "    plt.axis(\"off\")\n",
    "    # draw the renderer\n",
    "    fig.canvas.draw()\n",
    "    # Get the RGBA buffer from the figure\n",
    "    w, h = fig.canvas.get_width_height()\n",
    "    buf = np.fromstring(fig.canvas.tostring_argb(), dtype=np.uint8)\n",
    "    buf.shape = (w, h, 4)\n",
    "    # canvas.tostring_argb give pixmap in ARGB mode. Roll the ALPHA channel to have it in RGBA mode\n",
    "    buf = np.roll(buf, 3, axis=2)\n",
    "    image = Image.frombytes(\"RGBA\", (w, h), buf.tostring())\n",
    "    image = np.asarray(image)\n",
    "    label = np.where(image > 128, 1.0, 0)\n",
    "    label = np.uint8(label)\n",
    "    pkl.dump(label, open(f\"out/real-label{circuit_id}.pkl\", \"wb\"))\n",
    "\n",
    "def all_circuits_list_to_input():\n",
    "    for run_name in db.get_runs().read(projection=['name']):\n",
    "        cones = db.get_cones().read(run_name=run_name[0], projection=['x', 'y'])\n",
    "        no_cones = db.get_no_cones().read(run_name=run_name[0], projection=['x', 'y'])\n",
    "        detected_cones = cones + no_cones\n",
    "        list_to_input(detected_cones, run_name[0])\n",
    "\n",
    "all_circuits_list_to_input()"
   ]
  },
  {
   "cell_type": "code",
   "execution_count": null,
   "id": "79931919",
   "metadata": {},
   "outputs": [],
   "source": []
  },
  {
   "cell_type": "code",
   "execution_count": null,
   "id": "97b50763",
   "metadata": {},
   "outputs": [],
   "source": []
  },
  {
   "cell_type": "code",
   "execution_count": null,
   "id": "b030346e",
   "metadata": {},
   "outputs": [],
   "source": []
  },
  {
   "cell_type": "code",
   "execution_count": null,
   "id": "0a1c850e",
   "metadata": {},
   "outputs": [],
   "source": []
  }
 ],
 "metadata": {
  "kernelspec": {
   "display_name": ".env",
   "language": "python",
   "name": "python3"
  },
  "language_info": {
   "codemirror_mode": {
    "name": "ipython",
    "version": 3
   },
   "file_extension": ".py",
   "mimetype": "text/x-python",
   "name": "python",
   "nbconvert_exporter": "python",
   "pygments_lexer": "ipython3",
   "version": "3.10.8"
  },
  "vscode": {
   "interpreter": {
    "hash": "ef84d187a80863b2523c57a9b64121a1ebdd1a490e3adc24a22f2e81cd04f299"
   }
  }
 },
 "nbformat": 4,
 "nbformat_minor": 5
}
