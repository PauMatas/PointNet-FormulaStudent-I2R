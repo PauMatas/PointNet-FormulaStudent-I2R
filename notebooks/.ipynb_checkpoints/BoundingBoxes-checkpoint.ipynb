{
 "cells": [
  {
   "cell_type": "code",
   "execution_count": null,
   "id": "6847e454",
   "metadata": {},
   "outputs": [],
   "source": [
    "!jupyter nbextension enable --py widgetsnbextension"
   ]
  },
  {
   "cell_type": "code",
   "execution_count": null,
   "id": "6d9f5fde",
   "metadata": {},
   "outputs": [],
   "source": [
    "import os\n",
    "import sys\n",
    "module_path = os.path.abspath(os.path.join('..', 'scripts'))\n",
    "if module_path not in sys.path:\n",
    "    sys.path.append(module_path)\n",
    "    \n",
    "%matplotlib notebook\n",
    "%matplotlib widget\n",
    "import matplotlib.pyplot as plt\n",
    "from mpl_toolkits.mplot3d import Axes3D\n",
    "import ipywidgets as widgets\n",
    "import numpy as np"
   ]
  },
  {
   "cell_type": "code",
   "execution_count": null,
   "id": "845a1548",
   "metadata": {},
   "outputs": [],
   "source": [
    "from pointcloud_db import ConePositionTable, PointCloudTable"
   ]
  },
  {
   "cell_type": "code",
   "execution_count": null,
   "id": "aae5240f",
   "metadata": {},
   "outputs": [],
   "source": [
    "pos_table = ConePositionTable()\n",
    "pc_table = PointCloudTable()\n",
    "\n",
    "cone_positions = pos_table.read_rows()\n",
    "\n",
    "bbxs = [pc_table.bounding_box(cone_position, .5) for cone_position in cone_positions]"
   ]
  },
  {
   "cell_type": "code",
   "execution_count": null,
   "id": "aae702e5",
   "metadata": {},
   "outputs": [],
   "source": [
    "display(bbxs[0][:10])"
   ]
  },
  {
   "cell_type": "code",
   "execution_count": null,
   "id": "a3586a72",
   "metadata": {},
   "outputs": [],
   "source": [
    "bb_selection = widgets.BoundedIntText(\n",
    "    value=None,\n",
    "    min=0,\n",
    "    max=len(bbxs)-1,\n",
    "    step=1,\n",
    "    description='Bounding Box:',\n",
    "    disabled=False\n",
    ")\n",
    "display(bb_selection)"
   ]
  },
  {
   "cell_type": "code",
   "execution_count": null,
   "id": "1e8fbdc1",
   "metadata": {},
   "outputs": [],
   "source": [
    "BB = 15"
   ]
  },
  {
   "cell_type": "code",
   "execution_count": null,
   "id": "4f2dfaa2",
   "metadata": {},
   "outputs": [],
   "source": [
    "points = bbxs[BB]\n",
    "\n",
    "fig = plt.figure()\n",
    "ax = fig.add_subplot(111)\n",
    "ax.scatter([p[0] for p in points], [p[1] for p in points], [p[2] for p in points])\n",
    "ax.set_axis_off()\n",
    "plt.show()"
   ]
  },
  {
   "cell_type": "code",
   "execution_count": null,
   "id": "b6b4cccd",
   "metadata": {},
   "outputs": [],
   "source": [
    "points = bbxs[BB]\n",
    "\n",
    "x = [p[0] for p in points]\n",
    "y = [p[1] for p in points]\n",
    "z = [p[2] for p in points]\n",
    "\n",
    "x_mean = np.mean(x)\n",
    "y_mean = np.mean(y)\n",
    "z_mean = np.mean(z)\n",
    "\n",
    "x = [xi - x_mean for xi in x]\n",
    "y = [yi - y_mean for yi in y]\n",
    "z = [zi - z_mean for zi in z]"
   ]
  },
  {
   "cell_type": "code",
   "execution_count": null,
   "id": "cac8397d",
   "metadata": {},
   "outputs": [],
   "source": [
    "print(x[:2])\n",
    "y[:2]\n",
    "z[:2]\n",
    "\n",
    "import matplotlib.pyplot as plt\n",
    "from mpl_toolkits import mplot3d\n",
    "\n",
    "fig = plt.figure()\n",
    "ax = plt.axes(projection='3d')\n",
    "\n",
    "ax.scatter3D(x, y, z)"
   ]
  },
  {
   "cell_type": "code",
   "execution_count": null,
   "id": "0c9eb2f9",
   "metadata": {},
   "outputs": [],
   "source": []
  },
  {
   "cell_type": "code",
   "execution_count": null,
   "id": "97b22c6b-0d19-4661-a28e-b34b6eb184f2",
   "metadata": {},
   "outputs": [],
   "source": []
  }
 ],
 "metadata": {
  "interpreter": {
   "hash": "aee8b7b246df8f9039afb4144a1f6fd8d2ca17a180786b69acc140d282b71a49"
  },
  "kernelspec": {
   "display_name": "Python 3.10.0 64-bit",
   "name": "python3"
  },
  "language_info": {
   "codemirror_mode": {
    "name": "ipython",
    "version": 3
   },
   "file_extension": ".py",
   "mimetype": "text/x-python",
   "name": "python",
   "nbconvert_exporter": "python",
   "pygments_lexer": "ipython3",
   "version": "3.10.0"
  }
 },
 "nbformat": 4,
 "nbformat_minor": 5
}
