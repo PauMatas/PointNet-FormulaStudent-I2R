{
 "cells": [
  {
   "cell_type": "code",
   "execution_count": 18,
   "id": "eb80d717",
   "metadata": {},
   "outputs": [
    {
     "ename": "ModuleNotFoundError",
     "evalue": "No module named 'pandas'",
     "output_type": "error",
     "traceback": [
      "\u001b[0;31m---------------------------------------------------------------------------\u001b[0m",
      "\u001b[0;31mModuleNotFoundError\u001b[0m                       Traceback (most recent call last)",
      "Cell \u001b[0;32mIn [18], line 12\u001b[0m\n\u001b[1;32m      9\u001b[0m \u001b[38;5;28;01mfrom\u001b[39;00m \u001b[38;5;21;01mmpl_toolkits\u001b[39;00m\u001b[38;5;21;01m.\u001b[39;00m\u001b[38;5;21;01mmplot3d\u001b[39;00m \u001b[38;5;28;01mimport\u001b[39;00m Axes3D\n\u001b[1;32m     10\u001b[0m \u001b[38;5;28;01mimport\u001b[39;00m \u001b[38;5;21;01mipywidgets\u001b[39;00m \u001b[38;5;28;01mas\u001b[39;00m \u001b[38;5;21;01mwidgets\u001b[39;00m\n\u001b[0;32m---> 12\u001b[0m \u001b[38;5;28;01mimport\u001b[39;00m \u001b[38;5;21;01mpandas\u001b[39;00m \u001b[38;5;28;01mas\u001b[39;00m \u001b[38;5;21;01mpd\u001b[39;00m\n",
      "\u001b[0;31mModuleNotFoundError\u001b[0m: No module named 'pandas'"
     ]
    }
   ],
   "source": [
    "import os\n",
    "import sys\n",
    "module_path = os.path.abspath(os.path.join('..', 'scripts'))\n",
    "if module_path not in sys.path:\n",
    "    sys.path.append(module_path)\n",
    "    \n",
    "%matplotlib notebook\n",
    "import matplotlib.pyplot as plt\n",
    "from mpl_toolkits.mplot3d import Axes3D\n",
    "import ipywidgets as widgets\n",
    "\n",
    "import pandas as pd"
   ]
  },
  {
   "cell_type": "code",
   "execution_count": 3,
   "id": "2bd840ca",
   "metadata": {},
   "outputs": [],
   "source": [
    "from pointcloud_db import ConePositionTable, PointCloudTable, get_run_progressive_bounding_boxes"
   ]
  },
  {
   "cell_type": "code",
   "execution_count": null,
   "id": "8ee9ba90",
   "metadata": {},
   "outputs": [],
   "source": [
    "pos_table = ConePositionTable()\n",
    "pc_table = PointCloudTable()\n",
    "\n",
    "cone_positions = pos_table.read_rows()\n",
    "\n",
    "bbxs = [pc_table.bounding_box(cone_position, .3) for cone_position in cone_positions]"
   ]
  },
  {
   "cell_type": "code",
   "execution_count": null,
   "id": "5fefccd5",
   "metadata": {},
   "outputs": [],
   "source": [
    "bb_selection = widgets.BoundedIntText(\n",
    "    value=None,\n",
    "    min=0,\n",
    "    max=len(bbxs)-1,\n",
    "    step=1,\n",
    "    description='Bounding Box:',\n",
    "    disabled=False\n",
    ")\n",
    "display(bb_selection)"
   ]
  },
  {
   "cell_type": "code",
   "execution_count": null,
   "id": "c782270b",
   "metadata": {},
   "outputs": [],
   "source": [
    "BB = 15"
   ]
  },
  {
   "cell_type": "code",
   "execution_count": null,
   "id": "0b1e9c9a",
   "metadata": {},
   "outputs": [],
   "source": [
    "points = bbxs[BB]\n",
    "\n",
    "fig = plt.figure()\n",
    "ax = fig.add_subplot(111)\n",
    "ax.scatter([p[0] for p in points], [p[1] for p in points], [p[2] for p in points])\n",
    "ax.set_axis_off()\n",
    "plt.show()"
   ]
  },
  {
   "cell_type": "code",
   "execution_count": 5,
   "id": "de0ac6ca",
   "metadata": {},
   "outputs": [
    {
     "name": "stdout",
     "output_type": "stream",
     "text": [
      "2022-02-14 13:42:26.691309\n"
     ]
    },
    {
     "ename": "KeyboardInterrupt",
     "evalue": "",
     "output_type": "error",
     "traceback": [
      "\u001b[0;31m---------------------------------------------------------------------------\u001b[0m",
      "\u001b[0;31mKeyboardInterrupt\u001b[0m                         Traceback (most recent call last)",
      "Cell \u001b[0;32mIn [5], line 1\u001b[0m\n\u001b[0;32m----> 1\u001b[0m hist \u001b[38;5;241m=\u001b[39m \u001b[43mget_run_progressive_bounding_boxes\u001b[49m\u001b[43m(\u001b[49m\u001b[43m)\u001b[49m\n",
      "File \u001b[0;32m~/Desktop/Formula/database/WS/src/dataset/scripts/pointcloud_db.py:306\u001b[0m, in \u001b[0;36mget_run_progressive_bounding_boxes\u001b[0;34m()\u001b[0m\n\u001b[1;32m    303\u001b[0m     \u001b[38;5;28mprint\u001b[39m(position_datetime)\n\u001b[1;32m    304\u001b[0m     \u001b[38;5;28;01mfor\u001b[39;00m cone_position \u001b[38;5;129;01min\u001b[39;00m cone_table\u001b[38;5;241m.\u001b[39mread_rows():\n\u001b[1;32m    305\u001b[0m     \u001b[38;5;66;03m# for cone_position in cone_table.filter(run_id=run_id):\u001b[39;00m\n\u001b[0;32m--> 306\u001b[0m         \u001b[38;5;28;01mif\u001b[39;00m (bb_len \u001b[38;5;241m:=\u001b[39m \u001b[38;5;28mlen\u001b[39m(\u001b[43mpc_table\u001b[49m\u001b[38;5;241;43m.\u001b[39;49m\u001b[43mbounding_box\u001b[49m\u001b[43m(\u001b[49m\u001b[43mcone_position\u001b[49m\u001b[43m,\u001b[49m\u001b[43m \u001b[49m\u001b[43mCONE_RADIUS\u001b[49m\u001b[43m,\u001b[49m\u001b[43m \u001b[49m\u001b[43mbefore\u001b[49m\u001b[38;5;241;43m=\u001b[39;49m\u001b[43mposition_datetime\u001b[49m\u001b[43m)\u001b[49m)) \u001b[38;5;241m>\u001b[39m \u001b[38;5;241m0\u001b[39m:\n\u001b[1;32m    307\u001b[0m             hist\u001b[38;5;241m.\u001b[39mappend((\n\u001b[1;32m    308\u001b[0m                 bb_len,\n\u001b[1;32m    309\u001b[0m                 _dist_from_car_to_cone(cone_position, position[:\u001b[38;5;241m3\u001b[39m]),\n\u001b[1;32m    310\u001b[0m                 position_datetime\n\u001b[1;32m    311\u001b[0m             ))\n\u001b[1;32m    312\u001b[0m \u001b[38;5;28;01mreturn\u001b[39;00m hist\n",
      "File \u001b[0;32m~/Desktop/Formula/database/WS/src/dataset/scripts/pointcloud_db.py:192\u001b[0m, in \u001b[0;36mPointCloudTable.bounding_box\u001b[0;34m(self, cone_position, radius, before)\u001b[0m\n\u001b[1;32m    190\u001b[0m conn \u001b[38;5;241m=\u001b[39m sql\u001b[38;5;241m.\u001b[39mconnect(DATA_BASE_PATH)\n\u001b[1;32m    191\u001b[0m cursor \u001b[38;5;241m=\u001b[39m conn\u001b[38;5;241m.\u001b[39mcursor()\n\u001b[0;32m--> 192\u001b[0m \u001b[43mcursor\u001b[49m\u001b[38;5;241;43m.\u001b[39;49m\u001b[43mexecute\u001b[49m\u001b[43m(\u001b[49m\u001b[43mquery\u001b[49m\u001b[43m)\u001b[49m\n\u001b[1;32m    193\u001b[0m rows \u001b[38;5;241m=\u001b[39m cursor\u001b[38;5;241m.\u001b[39mfetchall()\n\u001b[1;32m    194\u001b[0m conn\u001b[38;5;241m.\u001b[39mclose()\n",
      "\u001b[0;31mKeyboardInterrupt\u001b[0m: "
     ]
    }
   ],
   "source": [
    "hist = get_run_progressive_bounding_boxes()"
   ]
  },
  {
   "cell_type": "code",
   "execution_count": null,
   "id": "0b08bd20",
   "metadata": {},
   "outputs": [],
   "source": [
    "hist[0]"
   ]
  },
  {
   "cell_type": "code",
   "execution_count": null,
   "id": "ef5e3e47",
   "metadata": {},
   "outputs": [],
   "source": [
    "hist[1]"
   ]
  },
  {
   "cell_type": "code",
   "execution_count": null,
   "id": "d0159cb5",
   "metadata": {},
   "outputs": [],
   "source": [
    "len(hist)"
   ]
  },
  {
   "cell_type": "code",
   "execution_count": 15,
   "id": "246c7187",
   "metadata": {},
   "outputs": [
    {
     "ename": "NameError",
     "evalue": "name 'pd' is not defined",
     "output_type": "error",
     "traceback": [
      "\u001b[0;31m---------------------------------------------------------------------------\u001b[0m",
      "\u001b[0;31mNameError\u001b[0m                                 Traceback (most recent call last)",
      "Cell \u001b[0;32mIn [15], line 1\u001b[0m\n\u001b[0;32m----> 1\u001b[0m \u001b[43mpd\u001b[49m\u001b[38;5;241m.\u001b[39mDataFrame(hist, columns\u001b[38;5;241m=\u001b[39m[\u001b[38;5;124m'\u001b[39m\u001b[38;5;124msize\u001b[39m\u001b[38;5;124m'\u001b[39m, \u001b[38;5;124m'\u001b[39m\u001b[38;5;124mdist\u001b[39m\u001b[38;5;124m'\u001b[39m, \u001b[38;5;124m'\u001b[39m\u001b[38;5;124mtime\u001b[39m\u001b[38;5;124m'\u001b[39m])\n\u001b[1;32m      3\u001b[0m plt\u001b[38;5;241m.\u001b[39mplot( \u001b[38;5;124m'\u001b[39m\u001b[38;5;124mtime\u001b[39m\u001b[38;5;124m'\u001b[39m, \u001b[38;5;124m'\u001b[39m\u001b[38;5;124mdist\u001b[39m\u001b[38;5;124m'\u001b[39m, size\u001b[38;5;241m=\u001b[39m\u001b[38;5;124m'\u001b[39m\u001b[38;5;124msize\u001b[39m\u001b[38;5;124m'\u001b[39m, data\u001b[38;5;241m=\u001b[39mdf, linestyle\u001b[38;5;241m=\u001b[39m\u001b[38;5;124m'\u001b[39m\u001b[38;5;124mnone\u001b[39m\u001b[38;5;124m'\u001b[39m, marker\u001b[38;5;241m=\u001b[39m\u001b[38;5;124m'\u001b[39m\u001b[38;5;124mo\u001b[39m\u001b[38;5;124m'\u001b[39m)\n\u001b[1;32m      4\u001b[0m plt\u001b[38;5;241m.\u001b[39mshow()\n",
      "\u001b[0;31mNameError\u001b[0m: name 'pd' is not defined"
     ]
    }
   ],
   "source": [
    "pd.DataFrame(hist, columns=['size', 'dist', 'time'])\n",
    "\n",
    "plt.plot( 'time', 'dist', size='size', data=df, linestyle='none', marker='o')\n",
    "plt.show()"
   ]
  },
  {
   "cell_type": "code",
   "execution_count": null,
   "id": "8382448b",
   "metadata": {},
   "outputs": [],
   "source": []
  }
 ],
 "metadata": {
  "kernelspec": {
   "display_name": "Python 3 (ipykernel)",
   "language": "python",
   "name": "python3"
  },
  "language_info": {
   "codemirror_mode": {
    "name": "ipython",
    "version": 3
   },
   "file_extension": ".py",
   "mimetype": "text/x-python",
   "name": "python",
   "nbconvert_exporter": "python",
   "pygments_lexer": "ipython3",
   "version": "3.8.10"
  }
 },
 "nbformat": 4,
 "nbformat_minor": 5
}
